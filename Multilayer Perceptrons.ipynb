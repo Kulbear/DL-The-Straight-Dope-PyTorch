{
 "cells": [
  {
   "cell_type": "markdown",
   "metadata": {},
   "source": [
    "# Multilayer Perceptrons in PyTorch\n",
    "\n",
    "Recall that before, we mapped our inputs directly onto our outputs through a single linear transformation.\n",
    "\n",
    "$$\\hat{y} = \\mbox{softmax}(W \\boldsymbol{x} + b)$$\n",
    "\n",
    "Graphically, we could depict the model like this:\n",
    "\n",
    "<center>![](./images/simple-softmax-net.png)</center>\n",
    "\n",
    "If our labels really were related to our input data by an approximately linear function, then this approach might be adequate. But *linearity is a strong assumption*. Linearity means that given an output of interest, for each input, increasing the value of the input should either drive the value of the output up or drive it down, irrespective of the value of the other inputs.\n",
    "\n",
    "Imagine the case of classifying cats and dogs based on black and white images. That’s like saying that for each pixel, increasing its value either increases the probability that it depicts a dog or decreases it. That’s not reasonable. After all, the world contains both black dogs and black cats, and both white dogs and white cats.\n",
    "\n",
    "Teasing out what is depicted in an image generally requires allowing more complex relationships between our inputs and outputs, considering the possibility that our pattern might be characterized by interactions among the many features. In these cases, linear models will have low accuracy. We can model a more general class of functions by incorporating one or more hidden layers. The easiest way to do this is to stack a bunch of layers of neurons on top of each other. Each layer feeds into the layer above it, until we generate an output. This architecture is commonly called a “multilayer perceptron”. With an MLP, we’re going to stack a bunch of layers on top of each other.\n",
    "\n",
    "$$h_1 = \\phi(W_1\\boldsymbol{x} + b_1)$$\n",
    "$$h_2 = \\phi(W_2\\boldsymbol{h_1} + b_2)$$\n",
    "$$...$$\n",
    "$$h_n = \\phi(W_n\\boldsymbol{h_{n-1}} + b_n)$$\n",
    "\n",
    "Note that each layer requires its own set of parameters. For each hidden layer, we calculate its value by first applying a linear function to the acivations of the layer below, and then applying an element-wise nonlinear activation function. Here, we’ve denoted the activation function for the hidden layers as $\\phi$. Finally, given the topmost hidden layer, we’ll generate an output. Because we’re still focusing on multiclass classification, we’ll stick with the softmax activation in the output layer.\n",
    "\n",
    "$$\\hat{y} = \\mbox{softmax}(W_y \\boldsymbol{h}_n + b_y)$$\n",
    "\n",
    "Graphically, a multilayer perceptron could be depicted like this:\n",
    "\n",
    "<center>![](./images/multilayer-perceptron.png)</center>\n",
    "\n",
    "Multilayer perceptrons can account for complex interactions in the inputs because the hidden neurons depend on the values of each of the inputs. It’s easy to design a hidden node that that does arbitrary computation, such as, for instance, logical operations on its inputs. And it’s even widely known that multilayer perceptrons are universal approximators. That means that even for a single-hidden-layer neural network, with enough nodes, and the right set of weights, it could model any function at all! Actually learning that function is the hard part. And it turns out that we can approximate functions much more compactly if we use deeper (vs wider) neural networks."
   ]
  },
  {
   "cell_type": "code",
   "execution_count": 2,
   "metadata": {},
   "outputs": [
    {
     "data": {
      "text/plain": [
       "'cuda'"
      ]
     },
     "execution_count": 2,
     "metadata": {},
     "output_type": "execute_result"
    }
   ],
   "source": [
    "# import PyTorch and its related packages\n",
    "import torch as T\n",
    "import torch.nn as nn\n",
    "import torch.optim as optim\n",
    "import torch.nn.functional as F\n",
    "\n",
    "import torchvision\n",
    "import torchvision.transforms as transforms\n",
    "\n",
    "# set default device based on CUDA's availability\n",
    "device = 'cuda' if T.cuda.is_available() else 'cpu'\n",
    "device"
   ]
  },
  {
   "cell_type": "markdown",
   "metadata": {},
   "source": [
    "## Prepare CIFAR10 dataset"
   ]
  },
  {
   "cell_type": "code",
   "execution_count": 3,
   "metadata": {},
   "outputs": [
    {
     "name": "stdout",
     "output_type": "stream",
     "text": [
      "Files already downloaded and verified\n",
      "Files already downloaded and verified\n"
     ]
    }
   ],
   "source": [
    "transform = transforms.Compose(\n",
    "    [transforms.ToTensor(),\n",
    "     transforms.Normalize((0.5, 0.5, 0.5), (0.5, 0.5, 0.5))])\n",
    "\n",
    "batch_size = 32\n",
    "image_size = (32, 32, 3)\n",
    "\n",
    "train_set = torchvision.datasets.CIFAR10(root='./data', train=True,\n",
    "                                        download=True, transform=transform)\n",
    "train_loader = T.utils.data.DataLoader(train_set, batch_size=batch_size,\n",
    "                                          shuffle=True, num_workers=2)\n",
    "\n",
    "test_set = torchvision.datasets.CIFAR10(root='./data', train=False,\n",
    "                                       download=True, transform=transform)\n",
    "test_loader = T.utils.data.DataLoader(test_set, batch_size=batch_size,\n",
    "                                         shuffle=False, num_workers=2)\n",
    "\n",
    "classes = ('plane', 'car', 'bird', 'cat',\n",
    "           'deer', 'dog', 'frog', 'horse', 'ship', 'truck')"
   ]
  },
  {
   "cell_type": "markdown",
   "metadata": {},
   "source": [
    "## Define the model with *nn.Module*\n",
    "\n",
    "If we compose a multi-layer network but use only linear operations, then our entire network will still be a linear function. To give our model the capacity to capture nonlinear functions, we’ll need to interleave our linear operations with activation functions. In this case, we’ll use the rectified linear unit (ReLU):"
   ]
  },
  {
   "cell_type": "code",
   "execution_count": 4,
   "metadata": {},
   "outputs": [],
   "source": [
    "n_in = image_size[0] * image_size[1] * image_size[2]\n",
    "n_h1 = 256\n",
    "n_o = 10\n",
    "\n",
    "class MultilayerPerceptron(nn.Module):\n",
    "    def __init__(self, **kwargs):\n",
    "        super(MultilayerPerceptron, self).__init__(**kwargs)\n",
    "        self.dense_1 = T.nn.Linear(n_in, n_h1)\n",
    "        self.dense_2 = T.nn.Linear(n_h1, n_o)\n",
    "        \n",
    "    def forward(self, x):\n",
    "        x = x.view(-1, n_in)\n",
    "        # apply rectified linear unit (which is non-linear!)\n",
    "        x = F.relu(self.dense_1(x))\n",
    "        x = self.dense_2(x)\n",
    "        return x"
   ]
  },
  {
   "cell_type": "code",
   "execution_count": 5,
   "metadata": {},
   "outputs": [
    {
     "data": {
      "text/plain": [
       "MultilayerPerceptron(\n",
       "  (dense_1): Linear(in_features=3072, out_features=512, bias=True)\n",
       "  (dense_2): Linear(in_features=512, out_features=10, bias=True)\n",
       ")"
      ]
     },
     "execution_count": 5,
     "metadata": {},
     "output_type": "execute_result"
    }
   ],
   "source": [
    "net = MultilayerPerceptron()\n",
    "net.to(device)"
   ]
  },
  {
   "cell_type": "markdown",
   "metadata": {},
   "source": [
    "## Setup the loss function and optimizer"
   ]
  },
  {
   "cell_type": "code",
   "execution_count": 6,
   "metadata": {},
   "outputs": [],
   "source": [
    "criterion = nn.CrossEntropyLoss()\n",
    "optimizer = optim.SGD(net.parameters(), lr=0.001, momentum=0.9)"
   ]
  },
  {
   "cell_type": "markdown",
   "metadata": {},
   "source": [
    "## Training and Evaluation"
   ]
  },
  {
   "cell_type": "code",
   "execution_count": 7,
   "metadata": {},
   "outputs": [
    {
     "name": "stdout",
     "output_type": "stream",
     "text": [
      "\n",
      "Train Acc. => 37.894% | Train Loss => 1.7799402134432216\n",
      "Test Acc. => 43.830000000000005% | Test Loss => 1.617559383471553\n",
      "\n",
      "Train Acc. => 45.512% | Train Loss => 1.5630083444861365\n",
      "Test Acc. => 46.5% | Test Loss => 1.5197934434055902\n",
      "\n",
      "Train Acc. => 48.92% | Train Loss => 1.473174580075538\n",
      "Test Acc. => 48.699999999999996% | Test Loss => 1.4605284797878693\n",
      "\n",
      "Train Acc. => 51.486% | Train Loss => 1.4053743961371448\n",
      "Test Acc. => 50.4% | Test Loss => 1.4199186717740262\n",
      "\n",
      "Train Acc. => 53.480000000000004% | Train Loss => 1.347788511638983\n",
      "Test Acc. => 51.239999999999995% | Test Loss => 1.3938687020978227\n",
      "\n",
      "Train Acc. => 55.346% | Train Loss => 1.2993102406967318\n",
      "Test Acc. => 52.31% | Test Loss => 1.3684557775339\n",
      "\n",
      "Train Acc. => 57.02199999999999% | Train Loss => 1.2546785040993913\n",
      "Test Acc. => 51.94% | Test Loss => 1.358425040024157\n",
      "\n",
      "Train Acc. => 58.37% | Train Loss => 1.2141954072453773\n",
      "Test Acc. => 52.81% | Test Loss => 1.3449796394418223\n",
      "\n",
      "Train Acc. => 59.754% | Train Loss => 1.1760335658424876\n",
      "Test Acc. => 53.400000000000006% | Test Loss => 1.3404753823249866\n",
      "\n",
      "Train Acc. => 61.23800000000001% | Train Loss => 1.1403251487096762\n",
      "Test Acc. => 52.910000000000004% | Test Loss => 1.348220592870499\n",
      "\n",
      "Train Acc. => 62.339999999999996% | Train Loss => 1.1048437078946383\n",
      "Test Acc. => 53.410000000000004% | Test Loss => 1.322090758111911\n",
      "\n",
      "Train Acc. => 63.461999999999996% | Train Loss => 1.0716089022441773\n",
      "Test Acc. => 54.1% | Test Loss => 1.3116815987105568\n",
      "\n",
      "Train Acc. => 64.71000000000001% | Train Loss => 1.03815137321798\n",
      "Test Acc. => 54.17999999999999% | Test Loss => 1.3061195739541953\n",
      "\n",
      "Train Acc. => 65.912% | Train Loss => 1.0067753674353992\n",
      "Test Acc. => 53.779999999999994% | Test Loss => 1.3139632468025524\n",
      "\n",
      "Train Acc. => 66.982% | Train Loss => 0.9745250660795015\n",
      "Test Acc. => 54.620000000000005% | Test Loss => 1.312044687926198\n",
      "\n",
      "Train Acc. => 68.07% | Train Loss => 0.9448027357945287\n",
      "Test Acc. => 54.44% | Test Loss => 1.3289585490577138\n",
      "\n",
      "Train Acc. => 69.242% | Train Loss => 0.9159452496090533\n",
      "Test Acc. => 54.11% | Test Loss => 1.333088986408977\n",
      "\n",
      "Train Acc. => 70.128% | Train Loss => 0.8880160309264695\n",
      "Test Acc. => 54.47% | Test Loss => 1.3255732409870282\n",
      "\n",
      "Train Acc. => 71.304% | Train Loss => 0.8591519877533842\n",
      "Test Acc. => 54.05% | Test Loss => 1.3519467153488256\n",
      "\n",
      "Train Acc. => 72.348% | Train Loss => 0.8300458816138125\n",
      "Test Acc. => 53.5% | Test Loss => 1.3568728225299727\n",
      "\n",
      "Train Acc. => 73.368% | Train Loss => 0.8017847620937508\n",
      "Test Acc. => 54.400000000000006% | Test Loss => 1.3676953818470525\n",
      "\n",
      "Train Acc. => 74.468% | Train Loss => 0.7756829515566677\n",
      "Test Acc. => 54.010000000000005% | Test Loss => 1.3704335695257583\n",
      "\n",
      "Train Acc. => 75.504% | Train Loss => 0.7476265719130645\n",
      "Test Acc. => 53.11% | Test Loss => 1.3893255951305548\n",
      "\n",
      "Train Acc. => 76.582% | Train Loss => 0.7194872280190713\n",
      "Test Acc. => 54.05% | Test Loss => 1.3875336854602582\n",
      "\n",
      "Train Acc. => 77.42599999999999% | Train Loss => 0.6943423924771014\n",
      "Test Acc. => 53.38% | Test Loss => 1.4284418269087331\n",
      "Finished Training\n"
     ]
    }
   ],
   "source": [
    "train_loss = []\n",
    "test_loss = []\n",
    "train_acc = []\n",
    "test_acc = []\n",
    "\n",
    "for epoch in range(1, 33):  # loop over the dataset multiple times\n",
    "    \n",
    "    running_loss = .0\n",
    "    correct = 0\n",
    "    total = 0\n",
    "    for i, data in enumerate(train_loader):\n",
    "        # get the inputs\n",
    "        inputs, labels = data\n",
    "        if device == 'cuda':\n",
    "            inputs, labels = inputs.to(device), labels.to(device)\n",
    "\n",
    "        # reset the parameter gradients\n",
    "        optimizer.zero_grad()\n",
    "\n",
    "        # forward\n",
    "        outputs = net(inputs)\n",
    "        loss = criterion(outputs, labels)\n",
    "        # backward\n",
    "        loss.backward()\n",
    "        # optimize\n",
    "        optimizer.step()\n",
    "        \n",
    "        running_loss += loss.item()\n",
    "        _, predicted = T.max(outputs.data, 1)\n",
    "        total += labels.size(0)\n",
    "        correct += (predicted == labels).sum().item()\n",
    "        \n",
    "    running_loss /= len(train_loader)\n",
    "    train_loss.append(running_loss)\n",
    "    running_acc = correct / total\n",
    "    train_acc.append(running_acc)\n",
    "    \n",
    "    if epoch % 4 == 0:\n",
    "        print('\\nEpoch: {}'.format(epoch))\n",
    "        print('Train Acc. => {:.3f}%'.format(100 * running_acc), end=' | ')\n",
    "        print('Train Loss => {:.5f}'.format(running_loss))\n",
    "    \n",
    "    # evaluate on the test set\n",
    "    # note this is usually performed on the validation set\n",
    "    # for simplicity we just evaluate it on the test set\n",
    "    with T.no_grad():\n",
    "        correct = 0\n",
    "        total = 0\n",
    "        test_running_loss = .0\n",
    "        for data in test_loader:\n",
    "            inputs, labels = data\n",
    "            if device == 'cuda':\n",
    "                inputs, labels = inputs.to(device), labels.to(device)\n",
    "            outputs = net(inputs)\n",
    "            loss = criterion(outputs, labels)\n",
    "            test_running_loss += loss.item()\n",
    "            _, predicted = T.max(outputs.data, 1)\n",
    "            total += labels.size(0)\n",
    "            correct += (predicted == labels).sum().item()\n",
    "\n",
    "        test_running_loss /= len(test_loader)\n",
    "        test_loss.append(test_running_loss)\n",
    "        test_running_acc = correct / total\n",
    "        test_acc.append(test_running_acc)\n",
    "        \n",
    "        if epoch % 4 == 0:\n",
    "            print('Test Acc.  => {:.3f}%'.format(100 * test_running_acc), end=' | ')\n",
    "            print('Test Loss  => {:.5f}'.format(test_running_loss))\n",
    "\n",
    "print('Finished Training')"
   ]
  },
  {
   "cell_type": "markdown",
   "metadata": {},
   "source": [
    "## Conclusion\n",
    "\n",
    "Nice! With just two hidden layers containing 256 hidden nodes, respectively, we can achieve over 54% accuracy on this task."
   ]
  },
  {
   "cell_type": "code",
   "execution_count": 8,
   "metadata": {},
   "outputs": [],
   "source": [
    "import matplotlib.pyplot as plt"
   ]
  },
  {
   "cell_type": "code",
   "execution_count": 9,
   "metadata": {},
   "outputs": [
    {
     "data": {
      "image/png": "[encoded data removed]",
      "text/plain": [
       "<Figure size 432x288 with 1 Axes>"
      ]
     },
     "metadata": {},
     "output_type": "display_data"
    }
   ],
   "source": [
    "plt.plot(train_loss, label='train')\n",
    "plt.plot(test_loss, label='test')\n",
    "plt.legend()\n",
    "plt.show()"
   ]
  },
  {
   "cell_type": "code",
   "execution_count": 10,
   "metadata": {},
   "outputs": [
    {
     "data": {
      "image/png": "[encoded data removed]",
      "text/plain": [
       "<Figure size 432x288 with 1 Axes>"
      ]
     },
     "metadata": {},
     "output_type": "display_data"
    }
   ],
   "source": [
    "plt.plot(train_acc, label='train')\n",
    "plt.plot(test_acc, label='test')\n",
    "plt.legend()\n",
    "plt.show()"
   ]
  },
  {
   "cell_type": "code",
   "execution_count": null,
   "metadata": {},
   "outputs": [],
   "source": []
  }
 ],
 "metadata": {
  "kernelspec": {
   "display_name": "Python 3",
   "language": "python",
   "name": "python3"
  },
  "language_info": {
   "codemirror_mode": {
    "name": "ipython",
    "version": 3
   },
   "file_extension": ".py",
   "mimetype": "text/x-python",
   "name": "python",
   "nbconvert_exporter": "python",
   "pygments_lexer": "ipython3",
   "version": "3.6.5"
  }
 },
 "nbformat": 4,
 "nbformat_minor": 2
}
