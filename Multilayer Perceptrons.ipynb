{
 "cells": [
  {
   "cell_type": "markdown",
   "metadata": {},
   "source": [
    "# Multilayer Perceptrons in PyTorch"
   ]
  },
  {
   "cell_type": "code",
   "execution_count": 1,
   "metadata": {},
   "outputs": [
    {
     "data": {
      "text/plain": [
       "'cuda'"
      ]
     },
     "execution_count": 1,
     "metadata": {},
     "output_type": "execute_result"
    }
   ],
   "source": [
    "# import PyTorch and its related packages\n",
    "import torch as T\n",
    "import torch.nn as nn\n",
    "import torch.optim as optim\n",
    "import torch.nn.functional as F\n",
    "\n",
    "import torchvision\n",
    "import torchvision.transforms as transforms\n",
    "\n",
    "# set default device based on CUDA's availability\n",
    "device = 'cuda' if T.cuda.is_available() else 'cpu'\n",
    "device"
   ]
  },
  {
   "cell_type": "markdown",
   "metadata": {},
   "source": [
    "## Prepare CIFAR10 dataset"
   ]
  },
  {
   "cell_type": "code",
   "execution_count": 2,
   "metadata": {},
   "outputs": [
    {
     "name": "stdout",
     "output_type": "stream",
     "text": [
      "Files already downloaded and verified\n",
      "Files already downloaded and verified\n"
     ]
    }
   ],
   "source": [
    "transform = transforms.Compose(\n",
    "    [transforms.ToTensor(),\n",
    "     transforms.Normalize((0.5, 0.5, 0.5), (0.5, 0.5, 0.5))])\n",
    "\n",
    "batch_size = 32\n",
    "image_size = (32, 32, 3)\n",
    "\n",
    "train_set = torchvision.datasets.CIFAR10(root='./data', train=True,\n",
    "                                        download=True, transform=transform)\n",
    "train_loader = T.utils.data.DataLoader(train_set, batch_size=batch_size,\n",
    "                                          shuffle=True, num_workers=2)\n",
    "\n",
    "test_set = torchvision.datasets.CIFAR10(root='./data', train=False,\n",
    "                                       download=True, transform=transform)\n",
    "test_loader = T.utils.data.DataLoader(test_set, batch_size=batch_size,\n",
    "                                         shuffle=False, num_workers=2)\n",
    "\n",
    "classes = ('plane', 'car', 'bird', 'cat',\n",
    "           'deer', 'dog', 'frog', 'horse', 'ship', 'truck')"
   ]
  },
  {
   "cell_type": "markdown",
   "metadata": {},
   "source": [
    "## Define the model with *nn.Module*"
   ]
  },
  {
   "cell_type": "code",
   "execution_count": 3,
   "metadata": {},
   "outputs": [],
   "source": [
    "n_in = image_size[0] * image_size[1] * image_size[2]\n",
    "n_h1 = 512\n",
    "n_o = 10\n",
    "\n",
    "class MultilayerPerceptron(nn.Module):\n",
    "    def __init__(self, **kwargs):\n",
    "        super(MultilayerPerceptron, self).__init__(**kwargs)\n",
    "        self.dense_1 = T.nn.Linear(n_in, n_h1)\n",
    "        self.dense_2 = T.nn.Linear(n_h1, n_o)\n",
    "        \n",
    "    def forward(self, x):\n",
    "        x = x.view(-1, n_in)\n",
    "        x = F.relu(self.dense_1(x))\n",
    "        x = self.dense_2(x)\n",
    "        return x"
   ]
  },
  {
   "cell_type": "code",
   "execution_count": 4,
   "metadata": {},
   "outputs": [
    {
     "data": {
      "text/plain": [
       "MultilayerPerceptron(\n",
       "  (dense_1): Linear(in_features=3072, out_features=512, bias=True)\n",
       "  (dense_2): Linear(in_features=512, out_features=10, bias=True)\n",
       ")"
      ]
     },
     "execution_count": 4,
     "metadata": {},
     "output_type": "execute_result"
    }
   ],
   "source": [
    "net = MultilayerPerceptron()\n",
    "net.to(device)"
   ]
  },
  {
   "cell_type": "markdown",
   "metadata": {},
   "source": [
    "## Setup the loss function and optimizer"
   ]
  },
  {
   "cell_type": "code",
   "execution_count": 5,
   "metadata": {},
   "outputs": [],
   "source": [
    "criterion = nn.CrossEntropyLoss()\n",
    "optimizer = optim.SGD(net.parameters(), lr=0.001, momentum=0.9)"
   ]
  },
  {
   "cell_type": "markdown",
   "metadata": {},
   "source": [
    "## Training and Evaluation"
   ]
  },
  {
   "cell_type": "code",
   "execution_count": 6,
   "metadata": {},
   "outputs": [
    {
     "name": "stdout",
     "output_type": "stream",
     "text": [
      "\n",
      "Train Acc. => 37.95% | Train Loss => 1.7816222381378242\n",
      "Test Acc. => 43.88% | Test Loss => 1.6125088735891226\n",
      "\n",
      "Train Acc. => 45.660000000000004% | Train Loss => 1.561247192127767\n",
      "Test Acc. => 46.56% | Test Loss => 1.5234629932683879\n",
      "\n",
      "Train Acc. => 48.84% | Train Loss => 1.472550394438965\n",
      "Test Acc. => 48.97% | Test Loss => 1.4607626260659945\n",
      "\n",
      "Train Acc. => 51.42% | Train Loss => 1.403921784190741\n",
      "Test Acc. => 50.43% | Test Loss => 1.421202297599171\n",
      "\n",
      "Train Acc. => 53.576% | Train Loss => 1.34633101173036\n",
      "Test Acc. => 51.28% | Test Loss => 1.3943746840230191\n",
      "\n",
      "Train Acc. => 55.202% | Train Loss => 1.2966642157435035\n",
      "Test Acc. => 51.74999999999999% | Test Loss => 1.3719569400857432\n",
      "\n",
      "Train Acc. => 57.02% | Train Loss => 1.2531221616519848\n",
      "Test Acc. => 52.459999999999994% | Test Loss => 1.355332904539931\n",
      "\n",
      "Train Acc. => 58.314% | Train Loss => 1.2115807342590312\n",
      "Test Acc. => 52.629999999999995% | Test Loss => 1.3406628831126057\n",
      "\n",
      "Train Acc. => 59.718% | Train Loss => 1.1755349053378603\n",
      "Test Acc. => 52.980000000000004% | Test Loss => 1.3316889692800113\n",
      "\n",
      "Train Acc. => 61.222% | Train Loss => 1.1398640312754948\n",
      "Test Acc. => 53.75% | Test Loss => 1.322036711171793\n",
      "\n",
      "Train Acc. => 62.404% | Train Loss => 1.1037654553707485\n",
      "Test Acc. => 53.480000000000004% | Test Loss => 1.3308700547812464\n",
      "\n",
      "Train Acc. => 63.62799999999999% | Train Loss => 1.0702953028206024\n",
      "Test Acc. => 52.82% | Test Loss => 1.3344008878777964\n",
      "\n",
      "Train Acc. => 64.74600000000001% | Train Loss => 1.0403985575232382\n",
      "Test Acc. => 54.09% | Test Loss => 1.317747545699342\n",
      "\n",
      "Train Acc. => 65.852% | Train Loss => 1.0068996705005204\n",
      "Test Acc. => 53.76% | Test Loss => 1.3261591310318286\n",
      "\n",
      "Train Acc. => 66.952% | Train Loss => 0.9765656998503764\n",
      "Test Acc. => 53.31% | Test Loss => 1.3247545150141367\n",
      "\n",
      "Train Acc. => 68.144% | Train Loss => 0.9451900749578739\n",
      "Test Acc. => 54.300000000000004% | Test Loss => 1.3176216107968706\n",
      "\n",
      "Train Acc. => 69.352% | Train Loss => 0.9159051520238682\n",
      "Test Acc. => 54.06999999999999% | Test Loss => 1.3290298767744924\n",
      "\n",
      "Train Acc. => 70.366% | Train Loss => 0.8855416997838158\n",
      "Test Acc. => 54.279999999999994% | Test Loss => 1.3410545098134123\n",
      "\n",
      "Train Acc. => 71.218% | Train Loss => 0.8573720753002227\n",
      "Test Acc. => 54.04% | Test Loss => 1.3443083473668693\n",
      "\n",
      "Train Acc. => 72.424% | Train Loss => 0.8275693542707142\n",
      "Test Acc. => 54.17999999999999% | Test Loss => 1.3490611099587462\n",
      "\n",
      "Train Acc. => 73.464% | Train Loss => 0.8030981025822408\n",
      "Test Acc. => 54.17999999999999% | Test Loss => 1.3664670375208505\n",
      "\n",
      "Train Acc. => 74.47% | Train Loss => 0.7726911064225439\n",
      "Test Acc. => 54.2% | Test Loss => 1.370412968027706\n",
      "\n",
      "Train Acc. => 75.454% | Train Loss => 0.7462045139253559\n",
      "Test Acc. => 54.06999999999999% | Test Loss => 1.3727210834384345\n",
      "\n",
      "Train Acc. => 76.348% | Train Loss => 0.7210258693933029\n",
      "Test Acc. => 54.53% | Test Loss => 1.3747426996977565\n",
      "\n",
      "Train Acc. => 77.44% | Train Loss => 0.693001884540456\n",
      "Test Acc. => 54.620000000000005% | Test Loss => 1.3909164623330577\n",
      "Finished Training\n"
     ]
    }
   ],
   "source": [
    "train_loss = []\n",
    "test_loss = []\n",
    "train_acc = []\n",
    "test_acc = []\n",
    "\n",
    "for epoch in range(25):  # loop over the dataset multiple times\n",
    "    print()\n",
    "    running_loss = .0\n",
    "    correct = 0\n",
    "    total = 0\n",
    "    for i, data in enumerate(train_loader):\n",
    "        # get the inputs\n",
    "        inputs, labels = data\n",
    "        if device == 'cuda':\n",
    "            inputs, labels = inputs.to(device), labels.to(device)\n",
    "\n",
    "        # reset the parameter gradients\n",
    "        optimizer.zero_grad()\n",
    "\n",
    "        # forward\n",
    "        outputs = net(inputs)\n",
    "        loss = criterion(outputs, labels)\n",
    "        # backward\n",
    "        loss.backward()\n",
    "        # optimize\n",
    "        optimizer.step()\n",
    "        \n",
    "        running_loss += loss.item()\n",
    "        _, predicted = T.max(outputs.data, 1)\n",
    "        total += labels.size(0)\n",
    "        correct += (predicted == labels).sum().item()\n",
    "        \n",
    "    running_loss /= len(train_loader)\n",
    "    train_loss.append(running_loss)\n",
    "    running_acc = correct / total\n",
    "    train_acc.append(running_acc)\n",
    "    print('Train Acc. => {}%'.format(100 * running_acc), end=' | ')\n",
    "    print('Train Loss => {}'.format(running_loss))\n",
    "    \n",
    "    # evaluate on the test set\n",
    "    # note this is usually performed on the validation set\n",
    "    # for simplicity we just evaluate it on the test set\n",
    "    with T.no_grad():\n",
    "        correct = 0\n",
    "        total = 0\n",
    "        test_running_loss = .0\n",
    "        for data in test_loader:\n",
    "            inputs, labels = data\n",
    "            if device == 'cuda':\n",
    "                inputs, labels = inputs.to(device), labels.to(device)\n",
    "            outputs = net(inputs)\n",
    "            loss = criterion(outputs, labels)\n",
    "            test_running_loss += loss.item()\n",
    "            _, predicted = T.max(outputs.data, 1)\n",
    "            total += labels.size(0)\n",
    "            correct += (predicted == labels).sum().item()\n",
    "\n",
    "        test_running_loss /= len(test_loader)\n",
    "        test_loss.append(test_running_loss)\n",
    "        test_running_acc = correct / total\n",
    "        test_acc.append(test_running_acc)\n",
    "        print('Test Acc. => {}%'.format(100 * test_running_acc), end=' | ')\n",
    "        print('Test Loss => {}'.format(test_running_loss))\n",
    "\n",
    "print('Finished Training')"
   ]
  },
  {
   "cell_type": "code",
   "execution_count": 7,
   "metadata": {},
   "outputs": [],
   "source": [
    "import matplotlib.pyplot as plt"
   ]
  },
  {
   "cell_type": "code",
   "execution_count": 8,
   "metadata": {},
   "outputs": [
    {
     "data": {
      "image/png": "[encoded data removed]",
      "text/plain": [
       "<Figure size 432x288 with 1 Axes>"
      ]
     },
     "metadata": {},
     "output_type": "display_data"
    }
   ],
   "source": [
    "plt.plot(train_loss, label='train')\n",
    "plt.plot(test_loss, label='test')\n",
    "plt.legend()\n",
    "plt.show()"
   ]
  },
  {
   "cell_type": "code",
   "execution_count": 9,
   "metadata": {},
   "outputs": [
    {
     "data": {
      "image/png": "[encoded data removed]",
      "text/plain": [
       "<Figure size 432x288 with 1 Axes>"
      ]
     },
     "metadata": {},
     "output_type": "display_data"
    }
   ],
   "source": [
    "plt.plot(train_acc, label='train')\n",
    "plt.plot(test_acc, label='test')\n",
    "plt.legend()\n",
    "plt.show()"
   ]
  },
  {
   "cell_type": "code",
   "execution_count": null,
   "metadata": {},
   "outputs": [],
   "source": []
  }
 ],
 "metadata": {
  "kernelspec": {
   "display_name": "Python 3",
   "language": "python",
   "name": "python3"
  },
  "language_info": {
   "codemirror_mode": {
    "name": "ipython",
    "version": 3
   },
   "file_extension": ".py",
   "mimetype": "text/x-python",
   "name": "python",
   "nbconvert_exporter": "python",
   "pygments_lexer": "ipython3",
   "version": "3.6.5"
  }
 },
 "nbformat": 4,
 "nbformat_minor": 2
}
