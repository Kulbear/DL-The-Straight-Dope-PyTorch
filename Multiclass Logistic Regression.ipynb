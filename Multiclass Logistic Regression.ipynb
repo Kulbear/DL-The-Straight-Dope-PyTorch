{
 "cells": [
  {
   "cell_type": "markdown",
   "metadata": {},
   "source": [
    "# Multiclass Logistic Regression in PyTorch\n",
    "\n",
    "Logistic regression is a classic algorithm for performing binary classification. It's formulation is:\n",
    "\n",
    "$$\\hat{y} = \\sigma( \\boldsymbol{x} \\boldsymbol{w}^T + b)$$\n",
    "\n",
    "This activation function on the final layer was crucial because it forced our outputs to take values in the range $[0,1]$. That allowed us to interpret these outputs as probabilties. We then updated our parameters to give the true labels (which take values either 1 or 0) the highest probability.\n",
    "\n",
    "Binary classification is quite useful. We can use it to predict spam vs. not spam or cancer vs not cancer. But not every problem fits the mold of binary classification. Sometimes we encounter a problem where each example could belong to one of $k$ classes. For example, a photograph might depict a cat or a dog or a zebra or … (you get the point). Given $k$ classes, the most naive way to solve a multiclass classification problem is to train $k$ different binary classifiers. However, there’s a smarter way to go about this. We could force the output layer to be a discrete probability distribution over the $k$ classes. To be a valid probability distribution, we’ll want the output $\\hat{y}$ to (i) contain only non-negative values, and (ii) sum to $1$. We accomplish this by using the **softmax** function.\n",
    "\n",
    "Given an input vector $z$, softmax does two things. First, it exponentiates (elementwise) $e^z$, forcing all values to be strictly positive. Then it normalizes so that all values sum to $1$. Following the softmax operation computes the following\n",
    "\n",
    "$$\\text{softmax}(\\boldsymbol{z}) = \\frac{e^{\\boldsymbol{z}} }{\\sum_{i=1}^k e^{z_i}}$$\n",
    "\n",
    "Because now we have k outputs and not 1 we’ll need weights connecting each of our inputs to each of our outputs. Graphically, the network looks something like this:\n",
    "\n",
    "<center>![](./images/simple-softmax-net.png)</center>\n",
    "\n",
    "We can represent these weights one for each input node, output node pair in a matrix $W$. We generate the linear mapping from inputs to outputs via a matrix-vector product $\\boldsymbol{x} W + \\boldsymbol{b}$. Note that the bias term is now a vector, with one component for each output node. The whole model, including the activation function can be written:\n",
    "\n",
    "$$\\hat{y} = \\text{softmax}(\\boldsymbol{x} W + \\boldsymbol{b})$$\n",
    "\n",
    "This model is sometimes called multiclass logistic regression. Other common names for it include softmax regression and multinomial regression."
   ]
  },
  {
   "cell_type": "code",
   "execution_count": 1,
   "metadata": {},
   "outputs": [
    {
     "data": {
      "text/plain": [
       "'cuda'"
      ]
     },
     "execution_count": 1,
     "metadata": {},
     "output_type": "execute_result"
    }
   ],
   "source": [
    "# import PyTorch and its related packages\n",
    "import torch as T\n",
    "import torch.nn as nn\n",
    "import torch.optim as optim\n",
    "import torch.nn.functional as F\n",
    "\n",
    "import torchvision\n",
    "import torchvision.transforms as transforms\n",
    "\n",
    "# set default device based on CUDA's availability\n",
    "device = 'cuda' if T.cuda.is_available() else 'cpu'\n",
    "device"
   ]
  },
  {
   "cell_type": "markdown",
   "metadata": {},
   "source": [
    "## Prepare CIFAR10 dataset"
   ]
  },
  {
   "cell_type": "code",
   "execution_count": 2,
   "metadata": {},
   "outputs": [
    {
     "name": "stdout",
     "output_type": "stream",
     "text": [
      "Files already downloaded and verified\n",
      "Files already downloaded and verified\n"
     ]
    }
   ],
   "source": [
    "transform = transforms.Compose(\n",
    "    [transforms.ToTensor(),\n",
    "     transforms.Normalize((0.5, 0.5, 0.5), (0.5, 0.5, 0.5))])\n",
    "\n",
    "batch_size = 32\n",
    "image_size = (32, 32, 3)\n",
    "\n",
    "train_set = torchvision.datasets.CIFAR10(root='./data', train=True,\n",
    "                                        download=True, transform=transform)\n",
    "train_loader = T.utils.data.DataLoader(train_set, batch_size=batch_size,\n",
    "                                          shuffle=True, num_workers=2)\n",
    "\n",
    "test_set = torchvision.datasets.CIFAR10(root='./data', train=False,\n",
    "                                       download=True, transform=transform)\n",
    "test_loader = T.utils.data.DataLoader(test_set, batch_size=batch_size,\n",
    "                                         shuffle=False, num_workers=2)"
   ]
  },
  {
   "cell_type": "markdown",
   "metadata": {},
   "source": [
    "## About batch training\n",
    "\n",
    "In the above, we used plain lowercase letters for scalar variables, bolded lowercase letters for row vectors, and uppercase letters for matrices. Assume we have $d$ inputs and $k$ outputs. Let’s note the shapes of the various variables explicitly as follows:\n",
    "\n",
    "$$\\underset{1 \\times k}{\\boldsymbol z} = \\underset{1 \\times d}{\\boldsymbol{x}}\\ \\underset{d \\times k}{W} + \\underset{1 \\times k}{\\boldsymbol{b}}$$\n",
    "\n",
    "Often we would one-hot encode the output label, for example $\\hat{y} = 5$ would be $\\boldsymbol {\\hat y}_{one-hot} = [0, 0, 0, 0, 1, 0, 0, 0, 0, 0]$ when one-hot encoded for a 10-class classfication problem. So $\\hat{y} = \\text{softmax}(\\boldsymbol z)$ becomes\n",
    "\n",
    "$$\\underset{1 \\times k}{\\boldsymbol{\\hat{y}}_{one-hot}} = \\text{softmax}_{one-hot}(\\underset{1 \\times k}{\\boldsymbol z})$$\n",
    "\n",
    "When we input a batch of $m$ training examples, we would have matrix \\underset{m \\times d}{X} that is the vertical stacking of individual training examples \\boldsymbol x_i, due to the choice of using row vectors.\n",
    "\n",
    "$$\\begin{split}X=\n",
    "\\begin{bmatrix}\n",
    "    \\boldsymbol x_1 \\\\\n",
    "    \\boldsymbol x_2 \\\\\n",
    "    \\vdots \\\\\n",
    "    \\boldsymbol x_m\n",
    "\\end{bmatrix}\n",
    "=\n",
    "\\begin{bmatrix}\n",
    "    x_{11} & x_{12} & x_{13} & \\dots  & x_{1d} \\\\\n",
    "    x_{21} & x_{22} & x_{23} & \\dots  & x_{2d} \\\\\n",
    "    \\vdots & \\vdots & \\vdots & \\ddots & \\vdots \\\\\n",
    "    x_{m1} & x_{m2} & x_{m3} & \\dots  & x_{md}\n",
    "\\end{bmatrix}\\end{split}$$\n",
    "\n",
    "Under this batch training situation, $\\boldsymbol{\\hat{y}}_{one-hot} = \\text{softmax}({\\boldsymbol z})$ turns into\n",
    "\n",
    "$$Y = \\text{softmax}(Z) = \\text{softmax}(XW + B)$$\n",
    "\n",
    "where matrix $\\underset{m \\times k}{B}$ is formed by having $m$ copies of $\\boldsymbol b$ as follows\n",
    "\n",
    "$$\\begin{split} B =\n",
    "\\begin{bmatrix}\n",
    "    \\boldsymbol b \\\\\n",
    "    \\boldsymbol b \\\\\n",
    "    \\vdots \\\\\n",
    "    \\boldsymbol b\n",
    "\\end{bmatrix}\n",
    "=\n",
    "\\begin{bmatrix}\n",
    "    b_{1} & b_{2} & b_{3} & \\dots  & b_{k} \\\\\n",
    "    b_{1} & b_{2} & b_{3} & \\dots  & b_{k} \\\\\n",
    "    \\vdots & \\vdots & \\vdots & \\ddots & \\vdots \\\\\n",
    "    b_{1} & b_{2} & b_{3} & \\dots  & b_{k}\n",
    "\\end{bmatrix}\\end{split}$$\n",
    "\n",
    "Each row of matrix $\\underset{m \\times k}{Z}$ corresponds to one training example. The softmax function operates on each row of matrix $Z$ and returns a matrix $\\underset{m \\times k}Y$, each row of which corresponds to the one-hot encoded prediction of one training example."
   ]
  },
  {
   "cell_type": "markdown",
   "metadata": {},
   "source": [
    "## Define the model with *nn.Module*\n",
    "\n",
    "The basic modeling idea is that we’re going to linearly map our input $X$ onto 10 different real valued outputs. Then, before outputting these values, we’ll want to normalize them so that they are non-negative and sum to 1. This normalization allows us to interpret the output $\\hat{y}$ as a valid probability distribution."
   ]
  },
  {
   "cell_type": "code",
   "execution_count": 3,
   "metadata": {},
   "outputs": [],
   "source": [
    "n_in = image_size[0] * image_size[1] * image_size[2]\n",
    "n_o = 10\n",
    "\n",
    "class MulticlassLogisticRegression(nn.Module):\n",
    "    def __init__(self, **kwargs):\n",
    "        super(MulticlassLogisticRegression, self).__init__(**kwargs)\n",
    "        self.dense_1 = T.nn.Linear(n_in, n_o)\n",
    "        \n",
    "    def forward(self, x):\n",
    "        x = x.view(-1, n_in)\n",
    "        x = F.softmax(self.dense_1(x), dim=1)\n",
    "        return x"
   ]
  },
  {
   "cell_type": "code",
   "execution_count": 4,
   "metadata": {},
   "outputs": [
    {
     "data": {
      "text/plain": [
       "MulticlassLogisticRegression(\n",
       "  (dense_1): Linear(in_features=3072, out_features=10, bias=True)\n",
       ")"
      ]
     },
     "execution_count": 4,
     "metadata": {},
     "output_type": "execute_result"
    }
   ],
   "source": [
    "net = MulticlassLogisticRegression()\n",
    "net.to(device)"
   ]
  },
  {
   "cell_type": "markdown",
   "metadata": {},
   "source": [
    "## Setup the loss function and optimizer\n",
    "\n",
    "we’re going to need to define a loss function that makes sense when our prediction is a probability distribution.\n",
    "\n",
    "The relevant loss function here is called cross-entropy and it may be the most common loss function you’ll find in all of deep learning. That’s because at the moment, classification problems tend to be far more abundant than regression problems.\n",
    "\n",
    "The basic idea is that we’re going to take a target Y that has been formatted as a one-hot vector, meaning one value corresponding to the correct label is set to 1 and the others are set to 0, e.g. $[0, 1, 0, 0, 0, 0, 0, 0, 0, 0]$.\n",
    "\n",
    "The basic idea of cross-entropy loss is that we only care about how much probability the prediction assigned to the correct label. In other words, for true label 2, we only care about the component of $\\hat{y}$ corresponding to 2. Cross-entropy attempts to maximize the log-likelihood given to the correct labels."
   ]
  },
  {
   "cell_type": "code",
   "execution_count": 5,
   "metadata": {},
   "outputs": [],
   "source": [
    "criterion = nn.CrossEntropyLoss()\n",
    "optimizer = optim.SGD(net.parameters(), lr=0.001, momentum=0.9)"
   ]
  },
  {
   "cell_type": "markdown",
   "metadata": {},
   "source": [
    "## Training and Evaluation"
   ]
  },
  {
   "cell_type": "code",
   "execution_count": 6,
   "metadata": {},
   "outputs": [
    {
     "name": "stdout",
     "output_type": "stream",
     "text": [
      "\n",
      "Epoch: 4\n",
      "Train Acc. => 39.152% | Train Loss => 2.08021\n",
      "Test Acc.  => 39.340% | Test Loss  => 2.07710\n",
      "\n",
      "Epoch: 8\n",
      "Train Acc. => 41.352% | Train Loss => 2.05721\n",
      "Test Acc.  => 40.610% | Test Loss  => 2.06183\n",
      "\n",
      "Epoch: 12\n",
      "Train Acc. => 42.478% | Train Loss => 2.04593\n",
      "Test Acc.  => 41.050% | Test Loss  => 2.05592\n",
      "\n",
      "Epoch: 16\n",
      "Train Acc. => 43.166% | Train Loss => 2.03857\n",
      "Test Acc.  => 41.120% | Test Loss  => 2.05159\n",
      "\n",
      "Epoch: 20\n",
      "Train Acc. => 43.794% | Train Loss => 2.03310\n",
      "Test Acc.  => 41.290% | Test Loss  => 2.04933\n",
      "\n",
      "Epoch: 24\n",
      "Train Acc. => 44.160% | Train Loss => 2.02889\n",
      "Test Acc.  => 41.570% | Test Loss  => 2.04758\n",
      "\n",
      "Epoch: 28\n",
      "Train Acc. => 44.584% | Train Loss => 2.02531\n",
      "Test Acc.  => 41.580% | Test Loss  => 2.04605\n",
      "\n",
      "Epoch: 32\n",
      "Train Acc. => 44.908% | Train Loss => 2.02216\n",
      "Test Acc.  => 41.490% | Test Loss  => 2.04585\n",
      "Finished Training\n"
     ]
    }
   ],
   "source": [
    "train_loss = []\n",
    "test_loss = []\n",
    "train_acc = []\n",
    "test_acc = []\n",
    "\n",
    "for epoch in range(1, 33):  # loop over the dataset multiple times\n",
    "    \n",
    "    running_loss = .0\n",
    "    correct = 0\n",
    "    total = 0\n",
    "    for i, data in enumerate(train_loader):\n",
    "        # get the inputs\n",
    "        inputs, labels = data\n",
    "        if device == 'cuda':\n",
    "            inputs, labels = inputs.to(device), labels.to(device)\n",
    "\n",
    "        # reset the parameter gradients\n",
    "        optimizer.zero_grad()\n",
    "\n",
    "        # forward\n",
    "        outputs = net(inputs)\n",
    "        loss = criterion(outputs, labels)\n",
    "        # backward\n",
    "        loss.backward()\n",
    "        # optimize\n",
    "        optimizer.step()\n",
    "        \n",
    "        running_loss += loss.item()\n",
    "        _, predicted = T.max(outputs.data, 1)\n",
    "        total += labels.size(0)\n",
    "        correct += (predicted == labels).sum().item()\n",
    "        \n",
    "    running_loss /= len(train_loader)\n",
    "    train_loss.append(running_loss)\n",
    "    running_acc = correct / total\n",
    "    train_acc.append(running_acc)\n",
    "    \n",
    "    if epoch % 4 == 0:\n",
    "        print('\\nEpoch: {}'.format(epoch))\n",
    "        print('Train Acc. => {:.3f}%'.format(100 * running_acc), end=' | ')\n",
    "        print('Train Loss => {:.5f}'.format(running_loss))\n",
    "    \n",
    "    # evaluate on the test set\n",
    "    # note this is usually performed on the validation set\n",
    "    # for simplicity we just evaluate it on the test set\n",
    "    with T.no_grad():\n",
    "        correct = 0\n",
    "        total = 0\n",
    "        test_running_loss = .0\n",
    "        for data in test_loader:\n",
    "            inputs, labels = data\n",
    "            if device == 'cuda':\n",
    "                inputs, labels = inputs.to(device), labels.to(device)\n",
    "            outputs = net(inputs)\n",
    "            loss = criterion(outputs, labels)\n",
    "            test_running_loss += loss.item()\n",
    "            _, predicted = T.max(outputs.data, 1)\n",
    "            total += labels.size(0)\n",
    "            correct += (predicted == labels).sum().item()\n",
    "\n",
    "        test_running_loss /= len(test_loader)\n",
    "        test_loss.append(test_running_loss)\n",
    "        test_running_acc = correct / total\n",
    "        test_acc.append(test_running_acc)\n",
    "        \n",
    "        if epoch % 4 == 0:\n",
    "            print('Test Acc.  => {:.3f}%'.format(100 * test_running_acc), end=' | ')\n",
    "            print('Test Loss  => {:.5f}'.format(test_running_loss))\n",
    "\n",
    "print('Finished Training')"
   ]
  },
  {
   "cell_type": "markdown",
   "metadata": {},
   "source": [
    "## Conclusion\n",
    "\n",
    "We can get nearly 42% accuracy at this task just by training a linear model for a few minutes! You might reasonably conclude that this problem is too easy to be taken seriously by experts."
   ]
  },
  {
   "cell_type": "markdown",
   "metadata": {},
   "source": [
    "## Visualization"
   ]
  },
  {
   "cell_type": "code",
   "execution_count": 7,
   "metadata": {},
   "outputs": [],
   "source": [
    "import matplotlib.pyplot as plt"
   ]
  },
  {
   "cell_type": "code",
   "execution_count": 8,
   "metadata": {},
   "outputs": [
    {
     "data": {
      "image/png": "[encoded data removed]",
      "text/plain": [
       "<Figure size 432x288 with 1 Axes>"
      ]
     },
     "metadata": {},
     "output_type": "display_data"
    }
   ],
   "source": [
    "plt.plot(train_loss, label='train')\n",
    "plt.plot(test_loss, label='test')\n",
    "plt.legend()\n",
    "plt.title('Training/Test Loss')\n",
    "plt.show()"
   ]
  },
  {
   "cell_type": "code",
   "execution_count": 9,
   "metadata": {},
   "outputs": [
    {
     "data": {
      "image/png": "[encoded data removed]",
      "text/plain": [
       "<Figure size 432x288 with 1 Axes>"
      ]
     },
     "metadata": {},
     "output_type": "display_data"
    }
   ],
   "source": [
    "plt.plot(train_acc, label='train')\n",
    "plt.plot(test_acc, label='test')\n",
    "plt.legend()\n",
    "plt.title('Training/Test Accuracy')\n",
    "plt.show()"
   ]
  },
  {
   "cell_type": "code",
   "execution_count": null,
   "metadata": {},
   "outputs": [],
   "source": []
  }
 ],
 "metadata": {
  "kernelspec": {
   "display_name": "Python 3",
   "language": "python",
   "name": "python3"
  },
  "language_info": {
   "codemirror_mode": {
    "name": "ipython",
    "version": 3
   },
   "file_extension": ".py",
   "mimetype": "text/x-python",
   "name": "python",
   "nbconvert_exporter": "python",
   "pygments_lexer": "ipython3",
   "version": "3.6.5"
  }
 },
 "nbformat": 4,
 "nbformat_minor": 2
}
