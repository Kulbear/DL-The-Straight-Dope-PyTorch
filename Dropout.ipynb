{
 "cells": [
  {
   "cell_type": "markdown",
   "metadata": {},
   "source": [
    "# Dropout Regularization in PyTorch"
   ]
  },
  {
   "cell_type": "code",
   "execution_count": 1,
   "metadata": {},
   "outputs": [
    {
     "data": {
      "text/plain": [
       "'cuda'"
      ]
     },
     "execution_count": 1,
     "metadata": {},
     "output_type": "execute_result"
    }
   ],
   "source": [
    "# import PyTorch and its related packages\n",
    "import torch as T\n",
    "import torch.nn as nn\n",
    "import torch.optim as optim\n",
    "import torch.nn.functional as F\n",
    "\n",
    "import torchvision\n",
    "import torchvision.transforms as transforms\n",
    "\n",
    "# set default device based on CUDA's availability\n",
    "device = 'cuda' if T.cuda.is_available() else 'cpu'\n",
    "device"
   ]
  },
  {
   "cell_type": "markdown",
   "metadata": {},
   "source": [
    "## Prepare CIFAR10 dataset"
   ]
  },
  {
   "cell_type": "code",
   "execution_count": 2,
   "metadata": {},
   "outputs": [
    {
     "name": "stdout",
     "output_type": "stream",
     "text": [
      "Files already downloaded and verified\n",
      "Files already downloaded and verified\n"
     ]
    }
   ],
   "source": [
    "transform = transforms.Compose(\n",
    "    [transforms.ToTensor(),\n",
    "     transforms.Normalize((0.5, 0.5, 0.5), (0.5, 0.5, 0.5))])\n",
    "\n",
    "batch_size = 32\n",
    "image_size = (32, 32, 3)\n",
    "\n",
    "train_set = torchvision.datasets.CIFAR10(root='./data', train=True,\n",
    "                                        download=True, transform=transform)\n",
    "train_loader = T.utils.data.DataLoader(train_set, batch_size=batch_size,\n",
    "                                          shuffle=True, num_workers=2)\n",
    "\n",
    "test_set = torchvision.datasets.CIFAR10(root='./data', train=False,\n",
    "                                       download=True, transform=transform)\n",
    "test_loader = T.utils.data.DataLoader(test_set, batch_size=batch_size,\n",
    "                                         shuffle=False, num_workers=2)\n",
    "\n",
    "classes = ('plane', 'car', 'bird', 'cat',\n",
    "           'deer', 'dog', 'frog', 'horse', 'ship', 'truck')"
   ]
  },
  {
   "cell_type": "markdown",
   "metadata": {},
   "source": [
    "## Define the model with *nn.Module* with a *dropout* layer"
   ]
  },
  {
   "cell_type": "code",
   "execution_count": 3,
   "metadata": {},
   "outputs": [],
   "source": [
    "n_in = image_size[0] * image_size[1] * image_size[2]\n",
    "n_h1 = 512\n",
    "n_o = 10\n",
    "\n",
    "class MultilayerPerceptron(nn.Module):\n",
    "    def __init__(self, dropout_prob):\n",
    "        super(MultilayerPerceptron, self).__init__()\n",
    "        self.dense_1 = T.nn.Linear(n_in, n_h1)\n",
    "        self.dense_2 = T.nn.Linear(n_h1, n_o)\n",
    "        \n",
    "    def forward(self, x, training):\n",
    "        x = x.view(-1, n_in)\n",
    "        x = F.relu(self.dense_1(x))\n",
    "        # dropout added!\n",
    "        x = F.dropout(x, p=0.4, training=training)\n",
    "        x = self.dense_2(x)\n",
    "        return x"
   ]
  },
  {
   "cell_type": "code",
   "execution_count": 4,
   "metadata": {},
   "outputs": [
    {
     "data": {
      "text/plain": [
       "MultilayerPerceptron(\n",
       "  (dense_1): Linear(in_features=3072, out_features=512, bias=True)\n",
       "  (dense_2): Linear(in_features=512, out_features=10, bias=True)\n",
       ")"
      ]
     },
     "execution_count": 4,
     "metadata": {},
     "output_type": "execute_result"
    }
   ],
   "source": [
    "net = MultilayerPerceptron(dropout_prob=0.5)\n",
    "net.to(device)"
   ]
  },
  {
   "cell_type": "markdown",
   "metadata": {},
   "source": [
    "## Setup the loss function and optimizer"
   ]
  },
  {
   "cell_type": "code",
   "execution_count": 5,
   "metadata": {},
   "outputs": [],
   "source": [
    "criterion = nn.CrossEntropyLoss()\n",
    "optimizer = optim.SGD(net.parameters(), lr=0.001, momentum=0.9)"
   ]
  },
  {
   "cell_type": "markdown",
   "metadata": {},
   "source": [
    "## Training and evaluation"
   ]
  },
  {
   "cell_type": "code",
   "execution_count": 6,
   "metadata": {},
   "outputs": [
    {
     "name": "stdout",
     "output_type": "stream",
     "text": [
      "\n",
      "Train Acc. => 36.696% | Train Loss => 1.8031890255780991\n",
      "Test Acc. => 43.37% | Test Loss => 1.626921657556162\n",
      "\n",
      "Train Acc. => 43.332% | Train Loss => 1.6145902265742735\n",
      "Test Acc. => 46.339999999999996% | Test Loss => 1.5389306678558692\n",
      "\n",
      "Train Acc. => 46.344% | Train Loss => 1.537042122312791\n",
      "Test Acc. => 48.65% | Test Loss => 1.4858184774843648\n",
      "\n",
      "Train Acc. => 48.116% | Train Loss => 1.4872024155395274\n",
      "Test Acc. => 49.16% | Test Loss => 1.4538304272551126\n",
      "\n",
      "Train Acc. => 49.730000000000004% | Train Loss => 1.442750583454652\n",
      "Test Acc. => 50.96000000000001% | Test Loss => 1.4116072388121876\n",
      "\n",
      "Train Acc. => 51.052% | Train Loss => 1.4099704993510964\n",
      "Test Acc. => 51.01% | Test Loss => 1.3943919493748358\n",
      "\n",
      "Train Acc. => 52.10399999999999% | Train Loss => 1.3786987426642492\n",
      "Test Acc. => 52.21% | Test Loss => 1.3714111169306233\n",
      "\n",
      "Train Acc. => 52.994% | Train Loss => 1.3542242570329155\n",
      "Test Acc. => 52.910000000000004% | Test Loss => 1.3562939167022705\n",
      "\n",
      "Train Acc. => 53.896% | Train Loss => 1.3285707409230854\n",
      "Test Acc. => 52.88% | Test Loss => 1.347048904949103\n",
      "\n",
      "Train Acc. => 54.75% | Train Loss => 1.306746609113343\n",
      "Test Acc. => 52.849999999999994% | Test Loss => 1.340229898405532\n",
      "\n",
      "Train Acc. => 55.614% | Train Loss => 1.2866512350904888\n",
      "Test Acc. => 53.32% | Test Loss => 1.3386325342967487\n",
      "\n",
      "Train Acc. => 56.032000000000004% | Train Loss => 1.26783451664852\n",
      "Test Acc. => 53.25% | Test Loss => 1.326250269771003\n",
      "\n",
      "Train Acc. => 56.757999999999996% | Train Loss => 1.2485266314129455\n",
      "Test Acc. => 54.39000000000001% | Test Loss => 1.309457069387832\n",
      "\n",
      "Train Acc. => 57.504% | Train Loss => 1.229230717367952\n",
      "Test Acc. => 54.08% | Test Loss => 1.3096465020895767\n",
      "\n",
      "Train Acc. => 57.709999999999994% | Train Loss => 1.215669673448637\n",
      "Test Acc. => 54.2% | Test Loss => 1.3003924719441813\n",
      "\n",
      "Train Acc. => 58.546% | Train Loss => 1.1978759931892595\n",
      "Test Acc. => 53.800000000000004% | Test Loss => 1.3060209225541868\n",
      "\n",
      "Train Acc. => 59.099999999999994% | Train Loss => 1.185077975212727\n",
      "Test Acc. => 54.510000000000005% | Test Loss => 1.2922907142212596\n",
      "\n",
      "Train Acc. => 59.704% | Train Loss => 1.1683628185773156\n",
      "Test Acc. => 54.82% | Test Loss => 1.2857843938346107\n",
      "\n",
      "Train Acc. => 60.004000000000005% | Train Loss => 1.1563124184187452\n",
      "Test Acc. => 55.05% | Test Loss => 1.2839673460482028\n",
      "\n",
      "Train Acc. => 60.553999999999995% | Train Loss => 1.139309060398158\n",
      "Test Acc. => 54.44% | Test Loss => 1.28990390163641\n",
      "\n",
      "Train Acc. => 60.885999999999996% | Train Loss => 1.1301249670662028\n",
      "Test Acc. => 55.14% | Test Loss => 1.2780343416018989\n",
      "\n",
      "Train Acc. => 61.324% | Train Loss => 1.1171883000674647\n",
      "Test Acc. => 55.63% | Test Loss => 1.2778740641408073\n",
      "\n",
      "Train Acc. => 61.885999999999996% | Train Loss => 1.1040408469436265\n",
      "Test Acc. => 55.94% | Test Loss => 1.2783187199324464\n",
      "\n",
      "Train Acc. => 62.153999999999996% | Train Loss => 1.0936299372543072\n",
      "Test Acc. => 55.379999999999995% | Test Loss => 1.2810920711142568\n",
      "\n",
      "Train Acc. => 62.73% | Train Loss => 1.0797986466001412\n",
      "Test Acc. => 55.25% | Test Loss => 1.28412236306614\n",
      "Finished Training\n"
     ]
    }
   ],
   "source": [
    "train_loss = []\n",
    "test_loss = []\n",
    "train_acc = []\n",
    "test_acc = []\n",
    "\n",
    "for epoch in range(25):  # loop over the dataset multiple times\n",
    "    print()\n",
    "    running_loss = .0\n",
    "    correct = 0\n",
    "    total = 0\n",
    "    for i, data in enumerate(train_loader):\n",
    "        # get the inputs\n",
    "        inputs, labels = data\n",
    "        if device == 'cuda':\n",
    "            inputs, labels = inputs.to(device), labels.to(device)\n",
    "\n",
    "        # reset the parameter gradients\n",
    "        optimizer.zero_grad()\n",
    "\n",
    "        # forward\n",
    "        outputs = net(inputs, True)\n",
    "        loss = criterion(outputs, labels)\n",
    "        # backward\n",
    "        loss.backward()\n",
    "        # optimize\n",
    "        optimizer.step()\n",
    "        \n",
    "        running_loss += loss.item()\n",
    "        _, predicted = T.max(outputs.data, 1)\n",
    "        total += labels.size(0)\n",
    "        correct += (predicted == labels).sum().item()\n",
    "        \n",
    "    running_loss /= len(train_loader)\n",
    "    train_loss.append(running_loss)\n",
    "    running_acc = correct / total\n",
    "    train_acc.append(running_acc)\n",
    "    print('Train Acc. => {}%'.format(100 * running_acc), end=' | ')\n",
    "    print('Train Loss => {}'.format(running_loss))\n",
    "    \n",
    "    # evaluate on the test set\n",
    "    # note this is usually performed on the validation set\n",
    "    # for simplicity we just evaluate it on the test set\n",
    "    with T.no_grad():\n",
    "        correct = 0\n",
    "        total = 0\n",
    "        test_running_loss = .0\n",
    "        for data in test_loader:\n",
    "            inputs, labels = data\n",
    "            if device == 'cuda':\n",
    "                inputs, labels = inputs.to(device), labels.to(device)\n",
    "            outputs = net(inputs, False)\n",
    "            loss = criterion(outputs, labels)\n",
    "            test_running_loss += loss.item()\n",
    "            _, predicted = T.max(outputs.data, 1)\n",
    "            total += labels.size(0)\n",
    "            correct += (predicted == labels).sum().item()\n",
    "\n",
    "        test_running_loss /= len(test_loader)\n",
    "        test_loss.append(test_running_loss)\n",
    "        test_running_acc = correct / total\n",
    "        test_acc.append(test_running_acc)\n",
    "        print('Test Acc. => {}%'.format(100 * test_running_acc), end=' | ')\n",
    "        print('Test Loss => {}'.format(test_running_loss))\n",
    "\n",
    "print('Finished Training')"
   ]
  },
  {
   "cell_type": "code",
   "execution_count": 7,
   "metadata": {},
   "outputs": [],
   "source": [
    "import matplotlib.pyplot as plt"
   ]
  },
  {
   "cell_type": "code",
   "execution_count": 8,
   "metadata": {},
   "outputs": [
    {
     "data": {
      "image/png": "[encoded data removed]",
      "text/plain": [
       "<Figure size 432x288 with 1 Axes>"
      ]
     },
     "metadata": {},
     "output_type": "display_data"
    }
   ],
   "source": [
    "plt.plot(train_loss, label='train')\n",
    "plt.plot(test_loss, label='test')\n",
    "plt.legend()\n",
    "plt.show()"
   ]
  },
  {
   "cell_type": "code",
   "execution_count": 9,
   "metadata": {},
   "outputs": [
    {
     "data": {
      "image/png": "[encoded data removed]",
      "text/plain": [
       "<Figure size 432x288 with 1 Axes>"
      ]
     },
     "metadata": {},
     "output_type": "display_data"
    }
   ],
   "source": [
    "plt.plot(train_acc, label='train')\n",
    "plt.plot(test_acc, label='test')\n",
    "plt.legend()\n",
    "plt.show()"
   ]
  },
  {
   "cell_type": "code",
   "execution_count": null,
   "metadata": {},
   "outputs": [],
   "source": []
  },
  {
   "cell_type": "code",
   "execution_count": null,
   "metadata": {},
   "outputs": [],
   "source": []
  },
  {
   "cell_type": "code",
   "execution_count": null,
   "metadata": {},
   "outputs": [],
   "source": []
  },
  {
   "cell_type": "code",
   "execution_count": null,
   "metadata": {},
   "outputs": [],
   "source": []
  },
  {
   "cell_type": "code",
   "execution_count": null,
   "metadata": {},
   "outputs": [],
   "source": []
  },
  {
   "cell_type": "code",
   "execution_count": null,
   "metadata": {},
   "outputs": [],
   "source": []
  }
 ],
 "metadata": {
  "kernelspec": {
   "display_name": "Python 3",
   "language": "python",
   "name": "python3"
  },
  "language_info": {
   "codemirror_mode": {
    "name": "ipython",
    "version": 3
   },
   "file_extension": ".py",
   "mimetype": "text/x-python",
   "name": "python",
   "nbconvert_exporter": "python",
   "pygments_lexer": "ipython3",
   "version": "3.6.5"
  }
 },
 "nbformat": 4,
 "nbformat_minor": 2
}
